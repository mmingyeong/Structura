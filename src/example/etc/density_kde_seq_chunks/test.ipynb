{
 "cells": [
  {
   "cell_type": "code",
   "execution_count": 5,
   "metadata": {},
   "outputs": [],
   "source": [
    "import h5py\n",
    "import os\n",
    "import numpy as np\n",
    "import glob\n",
    "\n",
    "INPUT_FILE = \"/caefs/data/IllustrisTNG/ics.hdf5\"\n",
    "OUTPUT_DIR = \"/caefs/data/IllustrisTNG/snapshot-0-ics\"\n",
    "snap99 = glob.glob(\"/caefs/data/IllustrisTNG/snapshot-99-dm\")"
   ]
  },
  {
   "cell_type": "code",
   "execution_count": 6,
   "metadata": {},
   "outputs": [
    {
     "name": "stdout",
     "output_type": "stream",
     "text": [
      "Selected file: /caefs/data/IllustrisTNG/snapshot-99-dm/snapshot-99.0.hdf5\n"
     ]
    }
   ],
   "source": [
    "dir_path = \"/caefs/data/IllustrisTNG/snapshot-99-dm\"\n",
    "files = sorted([f for f in os.listdir(dir_path) if f.endswith(\".hdf5\")])\n",
    "file_path = os.path.join(dir_path, files[0])\n",
    "print(f\"Selected file: {file_path}\")\n"
   ]
  },
  {
   "cell_type": "code",
   "execution_count": 7,
   "metadata": {},
   "outputs": [],
   "source": [
    "def print_hdf5_structure(file_path):\n",
    "    print(f\"[📂] File: {file_path}\")\n",
    "    print(f\"[📏] File size: {os.path.getsize(file_path) / 1e9:.2f} GB\\n\")\n",
    "\n",
    "    def visit_fn(name, node):\n",
    "        if isinstance(node, h5py.Dataset):\n",
    "            print(f\"[📄] Dataset: {name}\")\n",
    "            print(f\"      - shape : {node.shape}\")\n",
    "            print(f\"      - dtype : {node.dtype}\")\n",
    "            print(f\"      - compression : {node.compression}\")\n",
    "            print(f\"      - chunks      : {node.chunks}\")\n",
    "            print(f\"      - size (est.) : {np.prod(node.shape) * node.dtype.itemsize / 1e6:.2f} MB\\n\")\n",
    "        elif isinstance(node, h5py.Group):\n",
    "            print(f\"[📁] Group: {name}\")\n",
    "\n",
    "    with h5py.File(file_path, 'r') as f:\n",
    "        f.visititems(visit_fn)\n",
    "\n"
   ]
  },
  {
   "cell_type": "code",
   "execution_count": 8,
   "metadata": {},
   "outputs": [
    {
     "name": "stdout",
     "output_type": "stream",
     "text": [
      "[📂] File: /caefs/data/IllustrisTNG/snapshot-99-dm/snapshot-99.0.hdf5\n",
      "[📏] File size: 0.62 GB\n",
      "\n",
      "[📁] Group: Header\n",
      "[📁] Group: PartType1\n",
      "[📄] Dataset: PartType1/Coordinates\n",
      "      - shape : (25680412, 3)\n",
      "      - dtype : float64\n",
      "      - compression : None\n",
      "      - chunks      : None\n",
      "      - size (est.) : 616.33 MB\n",
      "\n"
     ]
    }
   ],
   "source": [
    "# 실행\n",
    "if __name__ == \"__main__\":\n",
    "    print_hdf5_structure(file_path)"
   ]
  }
 ],
 "metadata": {
  "kernelspec": {
   "display_name": "new_env",
   "language": "python",
   "name": "python3"
  },
  "language_info": {
   "codemirror_mode": {
    "name": "ipython",
    "version": 3
   },
   "file_extension": ".py",
   "mimetype": "text/x-python",
   "name": "python",
   "nbconvert_exporter": "python",
   "pygments_lexer": "ipython3",
   "version": "3.10.16"
  }
 },
 "nbformat": 4,
 "nbformat_minor": 2
}
